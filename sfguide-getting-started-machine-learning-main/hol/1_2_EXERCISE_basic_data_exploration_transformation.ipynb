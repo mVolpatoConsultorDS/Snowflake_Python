{
 "cells": [
  {
   "attachments": {},
   "cell_type": "markdown",
   "id": "3b648ee8",
   "metadata": {},
   "source": [
    "# EXERCISE: Data Exploration and Feature Engineering"
   ]
  },
  {
   "attachments": {},
   "cell_type": "markdown",
   "id": "1ed15903",
   "metadata": {},
   "source": [
    "## Imports"
   ]
  },
  {
   "cell_type": "code",
   "execution_count": 1,
   "id": "7410ce0d",
   "metadata": {},
   "outputs": [],
   "source": [
    "from snowflake.snowpark.session import Session\n",
    "import snowflake.snowpark.functions as F\n",
    "\n",
    "import json"
   ]
  },
  {
   "attachments": {},
   "cell_type": "markdown",
   "id": "a1f95920",
   "metadata": {},
   "source": [
    "## Create Snowpark Session"
   ]
  },
  {
   "cell_type": "code",
   "execution_count": 2,
   "id": "d2c8fbaa",
   "metadata": {},
   "outputs": [],
   "source": [
    "with open('creds.json') as f:\n",
    "    connection_parameters = json.load(f)"
   ]
  },
  {
   "cell_type": "code",
   "execution_count": 3,
   "id": "49090e02",
   "metadata": {},
   "outputs": [
    {
     "name": "stdout",
     "output_type": "stream",
     "text": [
      "Current Database and schema: \"HOL_DB\".\"PUBLIC\"\n",
      "Current Warehouse: \"HOL_WH\"\n"
     ]
    }
   ],
   "source": [
    "session = Session.builder.configs(connection_parameters).create()\n",
    "print(f\"Current Database and schema: {session.get_fully_qualified_current_schema()}\")\n",
    "print(f\"Current Warehouse: {session.get_current_warehouse()}\")"
   ]
  },
  {
   "cell_type": "code",
   "execution_count": 4,
   "id": "4988afb4",
   "metadata": {},
   "outputs": [],
   "source": [
    "snowpark_df = session.table('APPLICATION_RECORD')"
   ]
  },
  {
   "cell_type": "code",
   "execution_count": 5,
   "id": "739ea741",
   "metadata": {},
   "outputs": [
    {
     "data": {
      "text/html": [
       "<div>\n",
       "<style scoped>\n",
       "    .dataframe tbody tr th:only-of-type {\n",
       "        vertical-align: middle;\n",
       "    }\n",
       "\n",
       "    .dataframe tbody tr th {\n",
       "        vertical-align: top;\n",
       "    }\n",
       "\n",
       "    .dataframe thead th {\n",
       "        text-align: right;\n",
       "    }\n",
       "</style>\n",
       "<table border=\"1\" class=\"dataframe\">\n",
       "  <thead>\n",
       "    <tr style=\"text-align: right;\">\n",
       "      <th></th>\n",
       "      <th>ID</th>\n",
       "      <th>CODE_GENDER</th>\n",
       "      <th>FLAG_OWN_CAR</th>\n",
       "      <th>FLAG_OWN_REALTY</th>\n",
       "      <th>CNT_CHILDREN</th>\n",
       "      <th>AMT_INCOME_TOTAL</th>\n",
       "      <th>NAME_INCOME_TYPE</th>\n",
       "      <th>NAME_EDUCATION_TYPE</th>\n",
       "      <th>NAME_FAMILY_STATUS</th>\n",
       "      <th>NAME_HOUSING_TYPE</th>\n",
       "      <th>DAYS_BIRTH</th>\n",
       "      <th>DAYS_EMPLOYED</th>\n",
       "      <th>FLAG_MOBIL</th>\n",
       "      <th>FLAG_WORK_PHONE</th>\n",
       "      <th>FLAG_PHONE</th>\n",
       "      <th>FLAG_EMAIL</th>\n",
       "      <th>OCCUPATION_TYPE</th>\n",
       "      <th>CNT_FAM_MEMBERS</th>\n",
       "    </tr>\n",
       "  </thead>\n",
       "  <tbody>\n",
       "    <tr>\n",
       "      <th>0</th>\n",
       "      <td>5008804</td>\n",
       "      <td>M</td>\n",
       "      <td>Y</td>\n",
       "      <td>Y</td>\n",
       "      <td>0</td>\n",
       "      <td>427500.0</td>\n",
       "      <td>Working</td>\n",
       "      <td>Higher education</td>\n",
       "      <td>Civil marriage</td>\n",
       "      <td>Rented apartment</td>\n",
       "      <td>-12005</td>\n",
       "      <td>-4542</td>\n",
       "      <td>1</td>\n",
       "      <td>1</td>\n",
       "      <td>0</td>\n",
       "      <td>0</td>\n",
       "      <td>None</td>\n",
       "      <td>2.0</td>\n",
       "    </tr>\n",
       "    <tr>\n",
       "      <th>1</th>\n",
       "      <td>5008805</td>\n",
       "      <td>M</td>\n",
       "      <td>Y</td>\n",
       "      <td>Y</td>\n",
       "      <td>0</td>\n",
       "      <td>427500.0</td>\n",
       "      <td>Working</td>\n",
       "      <td>Higher education</td>\n",
       "      <td>Civil marriage</td>\n",
       "      <td>Rented apartment</td>\n",
       "      <td>-12005</td>\n",
       "      <td>-4542</td>\n",
       "      <td>1</td>\n",
       "      <td>1</td>\n",
       "      <td>0</td>\n",
       "      <td>0</td>\n",
       "      <td>None</td>\n",
       "      <td>2.0</td>\n",
       "    </tr>\n",
       "    <tr>\n",
       "      <th>2</th>\n",
       "      <td>5008806</td>\n",
       "      <td>M</td>\n",
       "      <td>Y</td>\n",
       "      <td>Y</td>\n",
       "      <td>0</td>\n",
       "      <td>112500.0</td>\n",
       "      <td>Working</td>\n",
       "      <td>Secondary / secondary special</td>\n",
       "      <td>Married</td>\n",
       "      <td>House / apartment</td>\n",
       "      <td>-21474</td>\n",
       "      <td>-1134</td>\n",
       "      <td>1</td>\n",
       "      <td>0</td>\n",
       "      <td>0</td>\n",
       "      <td>0</td>\n",
       "      <td>Security staff</td>\n",
       "      <td>2.0</td>\n",
       "    </tr>\n",
       "    <tr>\n",
       "      <th>3</th>\n",
       "      <td>5008808</td>\n",
       "      <td>F</td>\n",
       "      <td>N</td>\n",
       "      <td>Y</td>\n",
       "      <td>0</td>\n",
       "      <td>270000.0</td>\n",
       "      <td>Commercial associate</td>\n",
       "      <td>Secondary / secondary special</td>\n",
       "      <td>Single / not married</td>\n",
       "      <td>House / apartment</td>\n",
       "      <td>-19110</td>\n",
       "      <td>-3051</td>\n",
       "      <td>1</td>\n",
       "      <td>0</td>\n",
       "      <td>1</td>\n",
       "      <td>1</td>\n",
       "      <td>Sales staff</td>\n",
       "      <td>1.0</td>\n",
       "    </tr>\n",
       "    <tr>\n",
       "      <th>4</th>\n",
       "      <td>5008809</td>\n",
       "      <td>F</td>\n",
       "      <td>N</td>\n",
       "      <td>Y</td>\n",
       "      <td>0</td>\n",
       "      <td>270000.0</td>\n",
       "      <td>Commercial associate</td>\n",
       "      <td>Secondary / secondary special</td>\n",
       "      <td>Single / not married</td>\n",
       "      <td>House / apartment</td>\n",
       "      <td>-19110</td>\n",
       "      <td>-3051</td>\n",
       "      <td>1</td>\n",
       "      <td>0</td>\n",
       "      <td>1</td>\n",
       "      <td>1</td>\n",
       "      <td>Sales staff</td>\n",
       "      <td>1.0</td>\n",
       "    </tr>\n",
       "    <tr>\n",
       "      <th>5</th>\n",
       "      <td>5008810</td>\n",
       "      <td>F</td>\n",
       "      <td>N</td>\n",
       "      <td>Y</td>\n",
       "      <td>0</td>\n",
       "      <td>270000.0</td>\n",
       "      <td>Commercial associate</td>\n",
       "      <td>Secondary / secondary special</td>\n",
       "      <td>Single / not married</td>\n",
       "      <td>House / apartment</td>\n",
       "      <td>-19110</td>\n",
       "      <td>-3051</td>\n",
       "      <td>1</td>\n",
       "      <td>0</td>\n",
       "      <td>1</td>\n",
       "      <td>1</td>\n",
       "      <td>Sales staff</td>\n",
       "      <td>1.0</td>\n",
       "    </tr>\n",
       "    <tr>\n",
       "      <th>6</th>\n",
       "      <td>5008811</td>\n",
       "      <td>F</td>\n",
       "      <td>N</td>\n",
       "      <td>Y</td>\n",
       "      <td>0</td>\n",
       "      <td>270000.0</td>\n",
       "      <td>Commercial associate</td>\n",
       "      <td>Secondary / secondary special</td>\n",
       "      <td>Single / not married</td>\n",
       "      <td>House / apartment</td>\n",
       "      <td>-19110</td>\n",
       "      <td>-3051</td>\n",
       "      <td>1</td>\n",
       "      <td>0</td>\n",
       "      <td>1</td>\n",
       "      <td>1</td>\n",
       "      <td>Sales staff</td>\n",
       "      <td>1.0</td>\n",
       "    </tr>\n",
       "    <tr>\n",
       "      <th>7</th>\n",
       "      <td>5008812</td>\n",
       "      <td>F</td>\n",
       "      <td>N</td>\n",
       "      <td>Y</td>\n",
       "      <td>0</td>\n",
       "      <td>283500.0</td>\n",
       "      <td>Pensioner</td>\n",
       "      <td>Higher education</td>\n",
       "      <td>Separated</td>\n",
       "      <td>House / apartment</td>\n",
       "      <td>-22464</td>\n",
       "      <td>365243</td>\n",
       "      <td>1</td>\n",
       "      <td>0</td>\n",
       "      <td>0</td>\n",
       "      <td>0</td>\n",
       "      <td>None</td>\n",
       "      <td>1.0</td>\n",
       "    </tr>\n",
       "    <tr>\n",
       "      <th>8</th>\n",
       "      <td>5008813</td>\n",
       "      <td>F</td>\n",
       "      <td>N</td>\n",
       "      <td>Y</td>\n",
       "      <td>0</td>\n",
       "      <td>283500.0</td>\n",
       "      <td>Pensioner</td>\n",
       "      <td>Higher education</td>\n",
       "      <td>Separated</td>\n",
       "      <td>House / apartment</td>\n",
       "      <td>-22464</td>\n",
       "      <td>365243</td>\n",
       "      <td>1</td>\n",
       "      <td>0</td>\n",
       "      <td>0</td>\n",
       "      <td>0</td>\n",
       "      <td>None</td>\n",
       "      <td>1.0</td>\n",
       "    </tr>\n",
       "    <tr>\n",
       "      <th>9</th>\n",
       "      <td>5008814</td>\n",
       "      <td>F</td>\n",
       "      <td>N</td>\n",
       "      <td>Y</td>\n",
       "      <td>0</td>\n",
       "      <td>283500.0</td>\n",
       "      <td>Pensioner</td>\n",
       "      <td>Higher education</td>\n",
       "      <td>Separated</td>\n",
       "      <td>House / apartment</td>\n",
       "      <td>-22464</td>\n",
       "      <td>365243</td>\n",
       "      <td>1</td>\n",
       "      <td>0</td>\n",
       "      <td>0</td>\n",
       "      <td>0</td>\n",
       "      <td>None</td>\n",
       "      <td>1.0</td>\n",
       "    </tr>\n",
       "  </tbody>\n",
       "</table>\n",
       "</div>"
      ],
      "text/plain": [
       "        ID CODE_GENDER FLAG_OWN_CAR FLAG_OWN_REALTY  CNT_CHILDREN  \\\n",
       "0  5008804           M            Y               Y             0   \n",
       "1  5008805           M            Y               Y             0   \n",
       "2  5008806           M            Y               Y             0   \n",
       "3  5008808           F            N               Y             0   \n",
       "4  5008809           F            N               Y             0   \n",
       "5  5008810           F            N               Y             0   \n",
       "6  5008811           F            N               Y             0   \n",
       "7  5008812           F            N               Y             0   \n",
       "8  5008813           F            N               Y             0   \n",
       "9  5008814           F            N               Y             0   \n",
       "\n",
       "   AMT_INCOME_TOTAL      NAME_INCOME_TYPE            NAME_EDUCATION_TYPE  \\\n",
       "0          427500.0               Working               Higher education   \n",
       "1          427500.0               Working               Higher education   \n",
       "2          112500.0               Working  Secondary / secondary special   \n",
       "3          270000.0  Commercial associate  Secondary / secondary special   \n",
       "4          270000.0  Commercial associate  Secondary / secondary special   \n",
       "5          270000.0  Commercial associate  Secondary / secondary special   \n",
       "6          270000.0  Commercial associate  Secondary / secondary special   \n",
       "7          283500.0             Pensioner               Higher education   \n",
       "8          283500.0             Pensioner               Higher education   \n",
       "9          283500.0             Pensioner               Higher education   \n",
       "\n",
       "     NAME_FAMILY_STATUS  NAME_HOUSING_TYPE  DAYS_BIRTH  DAYS_EMPLOYED  \\\n",
       "0        Civil marriage   Rented apartment      -12005          -4542   \n",
       "1        Civil marriage   Rented apartment      -12005          -4542   \n",
       "2               Married  House / apartment      -21474          -1134   \n",
       "3  Single / not married  House / apartment      -19110          -3051   \n",
       "4  Single / not married  House / apartment      -19110          -3051   \n",
       "5  Single / not married  House / apartment      -19110          -3051   \n",
       "6  Single / not married  House / apartment      -19110          -3051   \n",
       "7             Separated  House / apartment      -22464         365243   \n",
       "8             Separated  House / apartment      -22464         365243   \n",
       "9             Separated  House / apartment      -22464         365243   \n",
       "\n",
       "   FLAG_MOBIL  FLAG_WORK_PHONE  FLAG_PHONE  FLAG_EMAIL OCCUPATION_TYPE  \\\n",
       "0           1                1           0           0            None   \n",
       "1           1                1           0           0            None   \n",
       "2           1                0           0           0  Security staff   \n",
       "3           1                0           1           1     Sales staff   \n",
       "4           1                0           1           1     Sales staff   \n",
       "5           1                0           1           1     Sales staff   \n",
       "6           1                0           1           1     Sales staff   \n",
       "7           1                0           0           0            None   \n",
       "8           1                0           0           0            None   \n",
       "9           1                0           0           0            None   \n",
       "\n",
       "   CNT_FAM_MEMBERS  \n",
       "0              2.0  \n",
       "1              2.0  \n",
       "2              2.0  \n",
       "3              1.0  \n",
       "4              1.0  \n",
       "5              1.0  \n",
       "6              1.0  \n",
       "7              1.0  \n",
       "8              1.0  \n",
       "9              1.0  "
      ]
     },
     "execution_count": 5,
     "metadata": {},
     "output_type": "execute_result"
    }
   ],
   "source": [
    "snowpark_df.limit(10).to_pandas()"
   ]
  },
  {
   "attachments": {},
   "cell_type": "markdown",
   "id": "41e91eab",
   "metadata": {},
   "source": [
    "# EXERCISE: Answer the following Questions"
   ]
  },
  {
   "cell_type": "code",
   "execution_count": 6,
   "id": "e9e1a538",
   "metadata": {},
   "outputs": [
    {
     "data": {
      "text/plain": [
       "18"
      ]
     },
     "execution_count": 6,
     "metadata": {},
     "output_type": "execute_result"
    }
   ],
   "source": [
    "# How many variables (columns) does the dataset have?\n",
    "len(snowpark_df.columns)"
   ]
  },
  {
   "cell_type": "code",
   "execution_count": 7,
   "id": "c925169f",
   "metadata": {},
   "outputs": [
    {
     "data": {
      "text/plain": [
       "438557"
      ]
     },
     "execution_count": 7,
     "metadata": {},
     "output_type": "execute_result"
    }
   ],
   "source": [
    "# How many rows does the dataset have?\n",
    "snowpark_df.count()"
   ]
  },
  {
   "cell_type": "code",
   "execution_count": 8,
   "id": "6aab7e41",
   "metadata": {},
   "outputs": [
    {
     "name": "stdout",
     "output_type": "stream",
     "text": [
      "---------------------\n",
      "|\"AVERAGE_INCOME\"   |\n",
      "---------------------\n",
      "|187524.2860095039  |\n",
      "---------------------\n",
      "\n"
     ]
    }
   ],
   "source": [
    "# What is the average income?\n",
    "snowpark_df.select(F.avg('AMT_INCOME_TOTAL').as_('AVERAGE_INCOME')).show()"
   ]
  },
  {
   "cell_type": "code",
   "execution_count": 9,
   "id": "88ddd511",
   "metadata": {},
   "outputs": [
    {
     "data": {
      "text/plain": [
       "55271"
      ]
     },
     "execution_count": 9,
     "metadata": {},
     "output_type": "execute_result"
    }
   ],
   "source": [
    "# How many people are Single?\n",
    "snowpark_df.filter(F.col('NAME_FAMILY_STATUS') == 'Single / not married').count()"
   ]
  },
  {
   "attachments": {},
   "cell_type": "markdown",
   "id": "7c1c4618",
   "metadata": {},
   "source": [
    "# EXCERCISE: Create / Drop Features"
   ]
  },
  {
   "cell_type": "code",
   "execution_count": 10,
   "id": "98744eca",
   "metadata": {},
   "outputs": [
    {
     "name": "stdout",
     "output_type": "stream",
     "text": [
      "------------------------------------------------------------------------------------------------------------------------------------------------------------------------------------------------------------------------------------------------------------------------------------------------------------------------------------------------------------------\n",
      "|\"ID\"     |\"CODE_GENDER\"  |\"FLAG_OWN_CAR\"  |\"FLAG_OWN_REALTY\"  |\"CNT_CHILDREN\"  |\"AMT_INCOME_TOTAL\"  |\"NAME_INCOME_TYPE\"    |\"NAME_EDUCATION_TYPE\"          |\"NAME_FAMILY_STATUS\"  |\"NAME_HOUSING_TYPE\"  |\"DAYS_BIRTH\"  |\"DAYS_EMPLOYED\"  |\"FLAG_MOBIL\"  |\"FLAG_WORK_PHONE\"  |\"FLAG_PHONE\"  |\"FLAG_EMAIL\"  |\"OCCUPATION_TYPE\"  |\"CNT_FAM_MEMBERS\"  |\"WORKYEARS\"  |\n",
      "------------------------------------------------------------------------------------------------------------------------------------------------------------------------------------------------------------------------------------------------------------------------------------------------------------------------------------------------------------------\n",
      "|5008804  |M              |Y               |Y                  |0               |427500.0            |Working               |Higher education               |Civil marriage        |Rented apartment     |-12005        |-4542            |1             |1                  |0             |0             |NULL               |2.0                |12           |\n",
      "|5008805  |M              |Y               |Y                  |0               |427500.0            |Working               |Higher education               |Civil marriage        |Rented apartment     |-12005        |-4542            |1             |1                  |0             |0             |NULL               |2.0                |12           |\n",
      "|5008806  |M              |Y               |Y                  |0               |112500.0            |Working               |Secondary / secondary special  |Married               |House / apartment    |-21474        |-1134            |1             |0                  |0             |0             |Security staff     |2.0                |3            |\n",
      "|5008808  |F              |N               |Y                  |0               |270000.0            |Commercial associate  |Secondary / secondary special  |Single / not married  |House / apartment    |-19110        |-3051            |1             |0                  |1             |1             |Sales staff        |1.0                |8            |\n",
      "|5008809  |F              |N               |Y                  |0               |270000.0            |Commercial associate  |Secondary / secondary special  |Single / not married  |House / apartment    |-19110        |-3051            |1             |0                  |1             |1             |Sales staff        |1.0                |8            |\n",
      "|5008810  |F              |N               |Y                  |0               |270000.0            |Commercial associate  |Secondary / secondary special  |Single / not married  |House / apartment    |-19110        |-3051            |1             |0                  |1             |1             |Sales staff        |1.0                |8            |\n",
      "|5008811  |F              |N               |Y                  |0               |270000.0            |Commercial associate  |Secondary / secondary special  |Single / not married  |House / apartment    |-19110        |-3051            |1             |0                  |1             |1             |Sales staff        |1.0                |8            |\n",
      "|5008812  |F              |N               |Y                  |0               |283500.0            |Pensioner             |Higher education               |Separated             |House / apartment    |-22464        |365243           |1             |0                  |0             |0             |NULL               |1.0                |1000         |\n",
      "|5008813  |F              |N               |Y                  |0               |283500.0            |Pensioner             |Higher education               |Separated             |House / apartment    |-22464        |365243           |1             |0                  |0             |0             |NULL               |1.0                |1000         |\n",
      "|5008814  |F              |N               |Y                  |0               |283500.0            |Pensioner             |Higher education               |Separated             |House / apartment    |-22464        |365243           |1             |0                  |0             |0             |NULL               |1.0                |1000         |\n",
      "------------------------------------------------------------------------------------------------------------------------------------------------------------------------------------------------------------------------------------------------------------------------------------------------------------------------------------------------------------------\n",
      "\n"
     ]
    }
   ],
   "source": [
    "# Create a new feature containing the years of employment\n",
    "# Formula: Absolute Value of DAYS_EMPLOYED divided by 365 days rounded down\n",
    "snowpark_df = snowpark_df.with_column('WORKYEARS', F.floor(F.abs(F.col('DAYS_EMPLOYED')) / 365))\n",
    "snowpark_df.show()"
   ]
  },
  {
   "cell_type": "code",
   "execution_count": 11,
   "id": "a297a122",
   "metadata": {},
   "outputs": [
    {
     "name": "stdout",
     "output_type": "stream",
     "text": [
      "------------------------------------------------------------------------------------------------------------------------------------------------------------------------------------------------------------------------------------------------------------------------------------------------------------------------------------------------\n",
      "|\"ID\"     |\"CODE_GENDER\"  |\"FLAG_OWN_CAR\"  |\"FLAG_OWN_REALTY\"  |\"CNT_CHILDREN\"  |\"AMT_INCOME_TOTAL\"  |\"NAME_INCOME_TYPE\"    |\"NAME_EDUCATION_TYPE\"          |\"NAME_FAMILY_STATUS\"  |\"NAME_HOUSING_TYPE\"  |\"DAYS_BIRTH\"  |\"FLAG_MOBIL\"  |\"FLAG_WORK_PHONE\"  |\"FLAG_PHONE\"  |\"FLAG_EMAIL\"  |\"OCCUPATION_TYPE\"  |\"CNT_FAM_MEMBERS\"  |\"WORKYEARS\"  |\n",
      "------------------------------------------------------------------------------------------------------------------------------------------------------------------------------------------------------------------------------------------------------------------------------------------------------------------------------------------------\n",
      "|5008804  |M              |Y               |Y                  |0               |427500.0            |Working               |Higher education               |Civil marriage        |Rented apartment     |-12005        |1             |1                  |0             |0             |NULL               |2.0                |12           |\n",
      "|5008805  |M              |Y               |Y                  |0               |427500.0            |Working               |Higher education               |Civil marriage        |Rented apartment     |-12005        |1             |1                  |0             |0             |NULL               |2.0                |12           |\n",
      "|5008806  |M              |Y               |Y                  |0               |112500.0            |Working               |Secondary / secondary special  |Married               |House / apartment    |-21474        |1             |0                  |0             |0             |Security staff     |2.0                |3            |\n",
      "|5008808  |F              |N               |Y                  |0               |270000.0            |Commercial associate  |Secondary / secondary special  |Single / not married  |House / apartment    |-19110        |1             |0                  |1             |1             |Sales staff        |1.0                |8            |\n",
      "|5008809  |F              |N               |Y                  |0               |270000.0            |Commercial associate  |Secondary / secondary special  |Single / not married  |House / apartment    |-19110        |1             |0                  |1             |1             |Sales staff        |1.0                |8            |\n",
      "|5008810  |F              |N               |Y                  |0               |270000.0            |Commercial associate  |Secondary / secondary special  |Single / not married  |House / apartment    |-19110        |1             |0                  |1             |1             |Sales staff        |1.0                |8            |\n",
      "|5008811  |F              |N               |Y                  |0               |270000.0            |Commercial associate  |Secondary / secondary special  |Single / not married  |House / apartment    |-19110        |1             |0                  |1             |1             |Sales staff        |1.0                |8            |\n",
      "|5008812  |F              |N               |Y                  |0               |283500.0            |Pensioner             |Higher education               |Separated             |House / apartment    |-22464        |1             |0                  |0             |0             |NULL               |1.0                |1000         |\n",
      "|5008813  |F              |N               |Y                  |0               |283500.0            |Pensioner             |Higher education               |Separated             |House / apartment    |-22464        |1             |0                  |0             |0             |NULL               |1.0                |1000         |\n",
      "|5008814  |F              |N               |Y                  |0               |283500.0            |Pensioner             |Higher education               |Separated             |House / apartment    |-22464        |1             |0                  |0             |0             |NULL               |1.0                |1000         |\n",
      "------------------------------------------------------------------------------------------------------------------------------------------------------------------------------------------------------------------------------------------------------------------------------------------------------------------------------------------------\n",
      "\n"
     ]
    }
   ],
   "source": [
    "# Drop the variable DAYS_EMPLOYED\n",
    "# Drop the variable DAYS_EMPLOYED\n",
    "snowpark_df = snowpark_df.drop('DAYS_EMPLOYED')\n",
    "snowpark_df.show()"
   ]
  },
  {
   "cell_type": "code",
   "execution_count": 12,
   "id": "4df45ba0",
   "metadata": {},
   "outputs": [],
   "source": [
    "session.close()"
   ]
  },
  {
   "cell_type": "code",
   "execution_count": null,
   "id": "33afefc7",
   "metadata": {},
   "outputs": [],
   "source": []
  }
 ],
 "metadata": {
  "kernelspec": {
   "display_name": "Python 3 (ipykernel)",
   "language": "python",
   "name": "python3"
  },
  "language_info": {
   "codemirror_mode": {
    "name": "ipython",
    "version": 3
   },
   "file_extension": ".py",
   "mimetype": "text/x-python",
   "name": "python",
   "nbconvert_exporter": "python",
   "pygments_lexer": "ipython3",
   "version": "3.9.0"
  }
 },
 "nbformat": 4,
 "nbformat_minor": 5
}

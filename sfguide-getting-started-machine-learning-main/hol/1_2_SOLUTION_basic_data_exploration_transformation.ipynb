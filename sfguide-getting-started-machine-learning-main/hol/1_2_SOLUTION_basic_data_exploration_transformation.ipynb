{
 "cells": [
  {
   "attachments": {},
   "cell_type": "markdown",
   "id": "3b648ee8",
   "metadata": {},
   "source": [
    "# SOLUTION: Data Exploration and Feature Engineering"
   ]
  },
  {
   "attachments": {},
   "cell_type": "markdown",
   "id": "1ed15903",
   "metadata": {},
   "source": [
    "## Imports"
   ]
  },
  {
   "cell_type": "code",
   "execution_count": null,
   "id": "7410ce0d",
   "metadata": {},
   "outputs": [],
   "source": [
    "from snowflake.snowpark.session import Session\n",
    "import snowflake.snowpark.functions as F\n",
    "\n",
    "import json"
   ]
  },
  {
   "attachments": {},
   "cell_type": "markdown",
   "id": "a1f95920",
   "metadata": {},
   "source": [
    "## Create Snowpark Session"
   ]
  },
  {
   "cell_type": "code",
   "execution_count": null,
   "id": "d2c8fbaa",
   "metadata": {},
   "outputs": [],
   "source": [
    "with open('creds.json') as f:\n",
    "    connection_parameters = json.load(f)"
   ]
  },
  {
   "cell_type": "code",
   "execution_count": null,
   "id": "49090e02",
   "metadata": {},
   "outputs": [],
   "source": [
    "session = Session.builder.configs(connection_parameters).create()\n",
    "print(f\"Current Database and schema: {session.get_fully_qualified_current_schema()}\")\n",
    "print(f\"Current Warehouse: {session.get_current_warehouse()}\")"
   ]
  },
  {
   "cell_type": "code",
   "execution_count": null,
   "id": "0c6d1672",
   "metadata": {},
   "outputs": [],
   "source": [
    "snowpark_df = session.table('APPLICATION_RECORD')"
   ]
  },
  {
   "cell_type": "code",
   "execution_count": null,
   "id": "a6ec1fc8",
   "metadata": {},
   "outputs": [],
   "source": [
    "snowpark_df.show()"
   ]
  },
  {
   "attachments": {},
   "cell_type": "markdown",
   "id": "d32517e0",
   "metadata": {},
   "source": [
    "# SOLUTION: Answer the following Questions"
   ]
  },
  {
   "cell_type": "code",
   "execution_count": null,
   "id": "fb5b82c3",
   "metadata": {},
   "outputs": [],
   "source": [
    "# How many variables (columns) does the dataset have?\n",
    "len(snowpark_df.columns)"
   ]
  },
  {
   "cell_type": "code",
   "execution_count": null,
   "id": "52fa61b0",
   "metadata": {},
   "outputs": [],
   "source": [
    "# How many rows does the dataset have?\n",
    "snowpark_df.count()"
   ]
  },
  {
   "cell_type": "code",
   "execution_count": null,
   "id": "0abc10df",
   "metadata": {},
   "outputs": [],
   "source": [
    "# What is the average income?\n",
    "snowpark_df.select(F.avg('AMT_INCOME_TOTAL').as_('AVERAGE_INCOME')).show()"
   ]
  },
  {
   "cell_type": "code",
   "execution_count": null,
   "id": "bc76f382",
   "metadata": {},
   "outputs": [],
   "source": [
    "# How many people are Single?\n",
    "snowpark_df.filter(F.col('NAME_FAMILY_STATUS') == 'Single / not married').count()"
   ]
  },
  {
   "attachments": {},
   "cell_type": "markdown",
   "id": "158d1532",
   "metadata": {},
   "source": [
    "# SOLUTION: Create / Drop Features"
   ]
  },
  {
   "cell_type": "code",
   "execution_count": null,
   "id": "bca4e8be",
   "metadata": {},
   "outputs": [],
   "source": [
    "# Create a new feature containing the years of employment\n",
    "# Formula: Absolute Value of DAYS_EMPLOYED divided by 365 days rounded down\n",
    "snowpark_df = snowpark_df.with_column('WORKYEARS', F.floor(F.abs(F.col('DAYS_EMPLOYED')) / 365))\n",
    "snowpark_df.show()"
   ]
  },
  {
   "cell_type": "code",
   "execution_count": null,
   "id": "fb2de473",
   "metadata": {},
   "outputs": [],
   "source": [
    "# Drop the variable DAYS_EMPLOYED\n",
    "snowpark_df = snowpark_df.drop('DAYS_EMPLOYED')\n",
    "snowpark_df.show()"
   ]
  },
  {
   "cell_type": "code",
   "execution_count": null,
   "id": "52b109cd",
   "metadata": {},
   "outputs": [],
   "source": [
    "session.close()"
   ]
  }
 ],
 "metadata": {
  "kernelspec": {
   "display_name": "Python 3 (ipykernel)",
   "language": "python",
   "name": "python3"
  },
  "language_info": {
   "codemirror_mode": {
    "name": "ipython",
    "version": 3
   },
   "file_extension": ".py",
   "mimetype": "text/x-python",
   "name": "python",
   "nbconvert_exporter": "python",
   "pygments_lexer": "ipython3",
   "version": "3.9.17"
  }
 },
 "nbformat": 4,
 "nbformat_minor": 5
}
